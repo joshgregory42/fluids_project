{
 "cells": [
  {
   "cell_type": "markdown",
   "metadata": {},
   "source": [
    "# Description\n",
    "\n",
    "This is a Jupyter Notebook that calculates the various parameters for our project. It is written in SageMath 9.3, which is an open-source Python equivalent of Mathematica.\n",
    "\n",
    "The program takes the coefficient of drag, $C_d$, which was calculated from our CFD code, the free-stream velocity $V$, the air density $\\rho$, and the fitting parameters for the top and bottom of the NACA 0012 airfoil. The function \"dectic_fit\" creates a 10-degree polynomial fit for a given coefficient array. In this case, we pass the coefficients of the top and bottom airfoil.\n",
    "\n",
    "We then calculate the arc length of the top and bottom of the airfoils, given by the variables \"phi_top\" and \"phi_bottom\", respectively. Once this is done, we calculate the total form drag.\n",
    "\n",
    "The final value that is outputted is $F_D$, which is the total force of form drag, measured in Newtons. The program also prints out \"Program executed\" so that the user knows that the program has run to completion."
   ]
  },
  {
   "cell_type": "code",
   "execution_count": 1,
   "metadata": {},
   "outputs": [],
   "source": [
    "%display typeset"
   ]
  },
  {
   "cell_type": "code",
   "execution_count": 4,
   "metadata": {},
   "outputs": [
    {
     "name": "stdout",
     "output_type": "stream",
     "text": [
      "Drag force: 9684.09908817442 N\n",
      "\n",
      "Program executed\n"
     ]
    }
   ],
   "source": [
    "C_d = 0.058513266  # coefficient of drag from Star CCM+ CFD code\n",
    "V = 300  # free-stream velocity, m/s\n",
    "rho = 1.18425  # density of air, kg/m^3\n",
    "\n",
    "# Array for the coefficients of the top of the airfoil\n",
    "top = [0.009717, 1.675, -18.64, 150.1, -736.9, 2236, -4318, 5322, -4055, 1740, -321.7]\n",
    "\n",
    "# Array for the coefficients of the bottom of the airfoil\n",
    "bottom = [-0.004994, -1.121, 14.31, -114.4, 556.4, -1690, 3281, -4069, 3119, -1345, 249.8]\n",
    "\n",
    "# 10-degree polynomial fit given array of coefficients (i.e. top and bottom)\n",
    "def dectic_fit(array):\n",
    "    equation = array[0] + array[1] * x + array[2] * x ** 2 + array[3] * x ** 3 + array[4] * x ** 4 + array[5] * x ** 5 \\\n",
    "               + array[6] * x ** 6 + array[7] * x ** 7 + array[8] * x ** 8 + array[9] * x ** 9 + array[10] * x ** 10\n",
    "    return equation\n",
    "\n",
    "# Function that calculates the arc length\n",
    "def arc_length(equation, lower, upper):\n",
    "    # depth = 0.1\n",
    "    prime = equation.diff(x)\n",
    "    integrand = sqrt(1 + prime ** 2)\n",
    "    arc = integrate(integrand, (x, lower, upper))\n",
    "    return arc\n",
    "\n",
    "# Function that calculates the drag force\n",
    "def drag(area, c_d, v, density):\n",
    "    D = (area * c_d * (v ** 2) * density) / 2\n",
    "    return D\n",
    "\n",
    "# phi_top is the fitted equation of the top of the airfoil\n",
    "phi_top = dectic_fit(top)\n",
    "\n",
    "# phi_bottom is the fitted equation of the bottom of the airfoil\n",
    "phi_bottom = dectic_fit(bottom)\n",
    "\n",
    "# Calculating the total arc length of the top and bottom of the airfoil\n",
    "A = arc_length(phi_top, 0, 1) + arc_length(phi_bottom, 0, 1)\n",
    "\n",
    "drag_force = drag(A, C_d, V, rho)\n",
    "\n",
    "print(\"Drag force: \" + str(drag_force) + \" N\")\n",
    "print(\"\\nProgram executed\")\n"
   ]
  }
 ],
 "metadata": {
  "kernelspec": {
   "display_name": "SageMath 9.3",
   "language": "sage",
   "name": "sagemath"
  },
  "language_info": {
   "codemirror_mode": {
    "name": "ipython",
    "version": 3
   },
   "file_extension": ".py",
   "mimetype": "text/x-python",
   "name": "python",
   "nbconvert_exporter": "python",
   "pygments_lexer": "ipython3",
   "version": "3.7.10"
  }
 },
 "nbformat": 4,
 "nbformat_minor": 4
}
